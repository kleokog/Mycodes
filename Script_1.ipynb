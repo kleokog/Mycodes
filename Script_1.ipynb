{
 "cells": [
  {
   "cell_type": "code",
   "execution_count": 1,
   "metadata": {},
   "outputs": [
    {
     "name": "stderr",
     "output_type": "stream",
     "text": [
      "/Users/kleomeniskogias/opt/anaconda3/envs/outra_kernel/lib/python3.8/site-packages/xgboost/compat.py:36: FutureWarning: pandas.Int64Index is deprecated and will be removed from pandas in a future version. Use pandas.Index with the appropriate dtype instead.\n",
      "  from pandas import MultiIndex, Int64Index\n"
     ]
    }
   ],
   "source": [
    "import pandas as pd\n",
    "import numpy as np\n",
    "from src.one_hot_encoding import encode_categorical_variable, join_to_df\n",
    "from src.classification_class import CustomClassifier"
   ]
  },
  {
   "cell_type": "code",
   "execution_count": 2,
   "metadata": {},
   "outputs": [
    {
     "name": "stderr",
     "output_type": "stream",
     "text": [
      "/Users/kleomeniskogias/opt/anaconda3/envs/outra_kernel/lib/python3.8/site-packages/tqdm/auto.py:22: TqdmWarning: IProgress not found. Please update jupyter and ipywidgets. See https://ipywidgets.readthedocs.io/en/stable/user_install.html\n",
      "  from .autonotebook import tqdm as notebook_tqdm\n"
     ]
    }
   ],
   "source": [
    "import shap"
   ]
  },
  {
   "cell_type": "markdown",
   "metadata": {},
   "source": [
    "# Functions"
   ]
  },
  {
   "cell_type": "code",
   "execution_count": 3,
   "metadata": {},
   "outputs": [],
   "source": [
    "def string_to_list(input_string):\n",
    "    output_list = input_string.split(\",\")\n",
    "    output_list = [elem.strip() for elem in output_list]\n",
    "    return output_list\n",
    "\n",
    "def list_to_string(input_list):\n",
    "    output_string = ', '.join(input_list)\n",
    "    return output_string\n",
    "\n",
    "\n",
    "def remove_consecutive_same_string(input_list):\n",
    "    list_length = len(input_list)\n",
    "    clean_list = []\n",
    "    clean_list.append(input_list[0])\n",
    "    for i in range(1, list_length):\n",
    "        # print(i, clean_list, input_list[i])\n",
    "        if (input_list[i] != input_list[i - 1]):\n",
    "            clean_list.append(input_list[i])\n",
    "    return clean_list"
   ]
  },
  {
   "cell_type": "markdown",
   "metadata": {},
   "source": [
    "# Data Investigation"
   ]
  },
  {
   "cell_type": "code",
   "execution_count": 4,
   "metadata": {},
   "outputs": [
    {
     "name": "stdout",
     "output_type": "stream",
     "text": [
      "(18922, 3)\n",
      "(15101, 35)\n"
     ]
    }
   ],
   "source": [
    "property_events = pd.read_csv(\"data/prop_events_for_test.csv\")\n",
    "print(property_events.shape)\n",
    "properties = pd.read_csv(\"data/property_for_test.csv\")\n",
    "print(properties.shape)"
   ]
  },
  {
   "cell_type": "code",
   "execution_count": 5,
   "metadata": {},
   "outputs": [
    {
     "name": "stdout",
     "output_type": "stream",
     "text": [
      "There are 15101 unique properties\n",
      "There are 6514 properties with historical data\n"
     ]
    }
   ],
   "source": [
    "# Check the ids\n",
    "if properties['prop_id'].value_counts().max() > 1:\n",
    "    print(\"There are duplicates in the propery id\")\n",
    "print(f\"There are {properties['prop_id'].shape[0]} unique properties\")\n",
    "# Check the properties that we have historical data\n",
    "properties_with_historical_data = properties.merge(property_events.drop_duplicates(subset = ['prop_id']), on = 'prop_id')['prop_id']\n",
    "print(f\"There are {properties_with_historical_data.shape[0]} properties with historical data\")"
   ]
  },
  {
   "cell_type": "code",
   "execution_count": 6,
   "metadata": {},
   "outputs": [
    {
     "name": "stdout",
     "output_type": "stream",
     "text": [
      "1995-01-06 2018-07-07\n"
     ]
    },
    {
     "data": {
      "text/plain": [
       "<AxesSubplot: title={'center': 'Historic data points per property'}, xlabel='frequency'>"
      ]
     },
     "execution_count": 6,
     "metadata": {},
     "output_type": "execute_result"
    },
    {
     "data": {
      "image/png": "[encoded data removed]",
      "text/plain": [
       "<Figure size 640x480 with 1 Axes>"
      ]
     },
     "metadata": {},
     "output_type": "display_data"
    }
   ],
   "source": [
    "# Understand the historical data\n",
    "property_events['day'] = property_events['date'].apply(lambda x : x [0:10])\n",
    "print(property_events['day'].min(), property_events['day'].max())\n",
    "# Property events frequency\n",
    "property_events_freq = property_events['prop_id'].value_counts().reset_index().rename(columns = {'index': 'prop_id', 'prop_id' : 'frequency'})\n",
    "property_events_freq.groupby(['frequency'])['prop_id'].count().plot.bar(title= \"Historic data points per property\")"
   ]
  },
  {
   "cell_type": "code",
   "execution_count": 7,
   "metadata": {},
   "outputs": [
    {
     "data": {
      "text/plain": [
       "survey                13063\n",
       "sale                   1641\n",
       "l_rent                 1408\n",
       "l_rented                968\n",
       "l_for_sale              885\n",
       "l_sold                  767\n",
       "l_sale_under_offer      115\n",
       "l_rent_under_offer       75\n",
       "Name: type, dtype: int64"
      ]
     },
     "execution_count": 7,
     "metadata": {},
     "output_type": "execute_result"
    }
   ],
   "source": [
    "# Histogram of type of events\n",
    "property_events['type'].value_counts()#.plot.bar()"
   ]
  },
  {
   "cell_type": "code",
   "execution_count": 8,
   "metadata": {},
   "outputs": [
    {
     "data": {
      "text/plain": [
       "survey                                        3857\n",
       "survey, sale                                   562\n",
       "sale                                           178\n",
       "survey, l_rent, l_rented                       152\n",
       "survey, l_rent                                 148\n",
       "l_rent                                         147\n",
       "survey, l_for_sale, l_sold, sale               109\n",
       "l_rent, l_rented                               102\n",
       "survey, l_for_sale, l_sold, survey, sale        60\n",
       "l_for_sale, l_sold, sale                        48\n",
       "survey, l_rented                                45\n",
       "survey, sale, survey                            45\n",
       "survey, l_for_sale, l_sold                      44\n",
       "l_rented                                        37\n",
       "l_for_sale, l_sold                              36\n",
       "survey, l_for_sale                              36\n",
       "survey, l_for_sale, sale                        32\n",
       "survey, l_rent, l_rented, l_rent, l_rented      31\n",
       "l_for_sale                                      30\n",
       "survey, l_sold, sale                            29\n",
       "Name: non_consequtive, dtype: int64"
      ]
     },
     "execution_count": 8,
     "metadata": {},
     "output_type": "execute_result"
    }
   ],
   "source": [
    "\n",
    "series_of_actions = property_events.sort_values('date').groupby(['prop_id']).agg({'type': ', '.join}).reset_index().rename(columns = {'type' : 'series_of_actions'})\n",
    "series_of_actions['series_of_actions'].value_counts().to_frame()\n",
    "series_of_actions[\"non_consequtive\"] = series_of_actions['series_of_actions'].apply(lambda x : list_to_string(remove_consecutive_same_string(string_to_list(x))) )\n",
    "series_of_actions[\"non_consequtive\"] .value_counts().head(20)"
   ]
  },
  {
   "cell_type": "markdown",
   "metadata": {},
   "source": [
    "## Properties"
   ]
  },
  {
   "cell_type": "code",
   "execution_count": 9,
   "metadata": {},
   "outputs": [
    {
     "data": {
      "text/plain": [
       "post_town  postcode_sector\n",
       "BRISTOL    BS6 5              5404\n",
       "           BS6 6              5717\n",
       "           BS6 7              3980\n",
       "Name: prop_id, dtype: int64"
      ]
     },
     "execution_count": 9,
     "metadata": {},
     "output_type": "execute_result"
    }
   ],
   "source": [
    "properties.groupby(['post_town', 'postcode_sector'])['prop_id'].count()"
   ]
  },
  {
   "cell_type": "code",
   "execution_count": 10,
   "metadata": {},
   "outputs": [
    {
     "data": {
      "text/plain": [
       "<AxesSubplot: ylabel='Frequency'>"
      ]
     },
     "execution_count": 10,
     "metadata": {},
     "output_type": "execute_result"
    },
    {
     "data": {
      "image/png": "[encoded data removed]",
      "text/plain": [
       "<Figure size 640x480 with 1 Axes>"
      ]
     },
     "metadata": {},
     "output_type": "display_data"
    }
   ],
   "source": [
    "properties['floor_area'].plot.hist(bins=50)"
   ]
  },
  {
   "cell_type": "markdown",
   "metadata": {},
   "source": [
    "# Rules Assignment"
   ]
  },
  {
   "cell_type": "code",
   "execution_count": 11,
   "metadata": {},
   "outputs": [],
   "source": [
    "series_of_actions_freq = series_of_actions[\"non_consequtive\"] .value_counts().reset_index()"
   ]
  },
  {
   "cell_type": "code",
   "execution_count": 12,
   "metadata": {},
   "outputs": [
    {
     "name": "stderr",
     "output_type": "stream",
     "text": [
      "\n",
      "A value is trying to be set on a copy of a slice from a DataFrame.\n",
      "Try using .loc[row_indexer,col_indexer] = value instead\n",
      "\n",
      "See the caveats in the documentation: https://pandas.pydata.org/pandas-docs/stable/user_guide/indexing.html#returning-a-view-versus-a-copy\n"
     ]
    },
    {
     "data": {
      "text/html": [
       "<div>\n",
       "<style scoped>\n",
       "    .dataframe tbody tr th:only-of-type {\n",
       "        vertical-align: middle;\n",
       "    }\n",
       "\n",
       "    .dataframe tbody tr th {\n",
       "        vertical-align: top;\n",
       "    }\n",
       "\n",
       "    .dataframe thead th {\n",
       "        text-align: right;\n",
       "    }\n",
       "</style>\n",
       "<table border=\"1\" class=\"dataframe\">\n",
       "  <thead>\n",
       "    <tr style=\"text-align: right;\">\n",
       "      <th></th>\n",
       "      <th>prop_id</th>\n",
       "      <th>day</th>\n",
       "      <th>type</th>\n",
       "      <th>Label</th>\n",
       "    </tr>\n",
       "  </thead>\n",
       "  <tbody>\n",
       "    <tr>\n",
       "      <th>0</th>\n",
       "      <td>129114</td>\n",
       "      <td>2016-02-16</td>\n",
       "      <td>sale</td>\n",
       "      <td>Inhabitants</td>\n",
       "    </tr>\n",
       "    <tr>\n",
       "      <th>2</th>\n",
       "      <td>129451</td>\n",
       "      <td>2018-05-10</td>\n",
       "      <td>l_rented</td>\n",
       "      <td>Renters</td>\n",
       "    </tr>\n",
       "    <tr>\n",
       "      <th>9</th>\n",
       "      <td>129853</td>\n",
       "      <td>2014-10-22</td>\n",
       "      <td>l_rented</td>\n",
       "      <td>Renters</td>\n",
       "    </tr>\n",
       "    <tr>\n",
       "      <th>12</th>\n",
       "      <td>129937</td>\n",
       "      <td>2018-04-20</td>\n",
       "      <td>l_sold</td>\n",
       "      <td>Inhabitants</td>\n",
       "    </tr>\n",
       "    <tr>\n",
       "      <th>17</th>\n",
       "      <td>130114</td>\n",
       "      <td>2018-03-08</td>\n",
       "      <td>l_rented</td>\n",
       "      <td>Renters</td>\n",
       "    </tr>\n",
       "    <tr>\n",
       "      <th>...</th>\n",
       "      <td>...</td>\n",
       "      <td>...</td>\n",
       "      <td>...</td>\n",
       "      <td>...</td>\n",
       "    </tr>\n",
       "    <tr>\n",
       "      <th>6507</th>\n",
       "      <td>456054</td>\n",
       "      <td>2017-05-24</td>\n",
       "      <td>sale</td>\n",
       "      <td>Inhabitants</td>\n",
       "    </tr>\n",
       "    <tr>\n",
       "      <th>6508</th>\n",
       "      <td>456386</td>\n",
       "      <td>2016-03-11</td>\n",
       "      <td>sale</td>\n",
       "      <td>Inhabitants</td>\n",
       "    </tr>\n",
       "    <tr>\n",
       "      <th>6509</th>\n",
       "      <td>456969</td>\n",
       "      <td>2017-01-06</td>\n",
       "      <td>sale</td>\n",
       "      <td>Inhabitants</td>\n",
       "    </tr>\n",
       "    <tr>\n",
       "      <th>6510</th>\n",
       "      <td>457708</td>\n",
       "      <td>2017-07-13</td>\n",
       "      <td>sale</td>\n",
       "      <td>Inhabitants</td>\n",
       "    </tr>\n",
       "    <tr>\n",
       "      <th>6514</th>\n",
       "      <td>462435</td>\n",
       "      <td>2017-12-15</td>\n",
       "      <td>sale</td>\n",
       "      <td>Inhabitants</td>\n",
       "    </tr>\n",
       "  </tbody>\n",
       "</table>\n",
       "<p>1965 rows × 4 columns</p>\n",
       "</div>"
      ],
      "text/plain": [
       "      prop_id         day      type        Label\n",
       "0      129114  2016-02-16      sale  Inhabitants\n",
       "2      129451  2018-05-10  l_rented      Renters\n",
       "9      129853  2014-10-22  l_rented      Renters\n",
       "12     129937  2018-04-20    l_sold  Inhabitants\n",
       "17     130114  2018-03-08  l_rented      Renters\n",
       "...       ...         ...       ...          ...\n",
       "6507   456054  2017-05-24      sale  Inhabitants\n",
       "6508   456386  2016-03-11      sale  Inhabitants\n",
       "6509   456969  2017-01-06      sale  Inhabitants\n",
       "6510   457708  2017-07-13      sale  Inhabitants\n",
       "6514   462435  2017-12-15      sale  Inhabitants\n",
       "\n",
       "[1965 rows x 4 columns]"
      ]
     },
     "execution_count": 12,
     "metadata": {},
     "output_type": "execute_result"
    }
   ],
   "source": [
    "decisive_events = ['sale', 'l_rented', 'l_sold']\n",
    "\n",
    "# latest_event \n",
    "latest_event = property_events.groupby(['prop_id'])['day'].max().reset_index()\n",
    "latest_event = latest_event.merge(property_events, on = ['prop_id', 'day'])[['prop_id', 'day', 'type']]\n",
    "labeled_data = latest_event[latest_event['type'].isin(decisive_events)]\n",
    "labeled_data['Label'] = labeled_data['type'].apply(lambda x : 'Inhabitants' if x in ['sale', 'l_sold'] else 'Renters')\n",
    "labeled_data"
   ]
  },
  {
   "cell_type": "markdown",
   "metadata": {},
   "source": [
    "# Classification"
   ]
  },
  {
   "cell_type": "code",
   "execution_count": 13,
   "metadata": {},
   "outputs": [],
   "source": [
    "training_features = ['x_coordinate', 'y_coordinate', 'bathrooms','bedrooms',\n",
    " 'floor_area', 'year_built', 'property_value', 'property_rental_value']\n",
    "to_encode = ['postcode_sector', 'property_type', 'ht_property_type', 'tenure'] #'property_style'\n"
   ]
  },
  {
   "cell_type": "code",
   "execution_count": 14,
   "metadata": {},
   "outputs": [
    {
     "data": {
      "text/html": [
       "<div>\n",
       "<style scoped>\n",
       "    .dataframe tbody tr th:only-of-type {\n",
       "        vertical-align: middle;\n",
       "    }\n",
       "\n",
       "    .dataframe tbody tr th {\n",
       "        vertical-align: top;\n",
       "    }\n",
       "\n",
       "    .dataframe thead th {\n",
       "        text-align: right;\n",
       "    }\n",
       "</style>\n",
       "<table border=\"1\" class=\"dataframe\">\n",
       "  <thead>\n",
       "    <tr style=\"text-align: right;\">\n",
       "      <th></th>\n",
       "      <th>postcode_sector_BS6 5</th>\n",
       "      <th>postcode_sector_BS6 6</th>\n",
       "      <th>postcode_sector_BS6 7</th>\n",
       "      <th>property_type_Bungalow/Chalet</th>\n",
       "      <th>property_type_Flat/Maisonette</th>\n",
       "      <th>property_type_House</th>\n",
       "      <th>ht_property_type_All</th>\n",
       "      <th>ht_property_type_Detached</th>\n",
       "      <th>ht_property_type_Flat/Maisonette</th>\n",
       "      <th>ht_property_type_Semi-Detached</th>\n",
       "      <th>ht_property_type_Terraced</th>\n",
       "      <th>tenure_Feudal</th>\n",
       "      <th>tenure_Freehold</th>\n",
       "      <th>tenure_Leasehold</th>\n",
       "      <th>tenure_Shared</th>\n",
       "    </tr>\n",
       "    <tr>\n",
       "      <th>prop_id</th>\n",
       "      <th></th>\n",
       "      <th></th>\n",
       "      <th></th>\n",
       "      <th></th>\n",
       "      <th></th>\n",
       "      <th></th>\n",
       "      <th></th>\n",
       "      <th></th>\n",
       "      <th></th>\n",
       "      <th></th>\n",
       "      <th></th>\n",
       "      <th></th>\n",
       "      <th></th>\n",
       "      <th></th>\n",
       "      <th></th>\n",
       "    </tr>\n",
       "  </thead>\n",
       "  <tbody>\n",
       "    <tr>\n",
       "      <th>147676</th>\n",
       "      <td>0</td>\n",
       "      <td>0</td>\n",
       "      <td>1</td>\n",
       "      <td>0</td>\n",
       "      <td>1</td>\n",
       "      <td>0</td>\n",
       "      <td>0</td>\n",
       "      <td>0</td>\n",
       "      <td>1</td>\n",
       "      <td>0</td>\n",
       "      <td>0</td>\n",
       "      <td>0</td>\n",
       "      <td>0</td>\n",
       "      <td>1</td>\n",
       "      <td>0</td>\n",
       "    </tr>\n",
       "    <tr>\n",
       "      <th>152958</th>\n",
       "      <td>1</td>\n",
       "      <td>0</td>\n",
       "      <td>0</td>\n",
       "      <td>0</td>\n",
       "      <td>1</td>\n",
       "      <td>0</td>\n",
       "      <td>0</td>\n",
       "      <td>0</td>\n",
       "      <td>1</td>\n",
       "      <td>0</td>\n",
       "      <td>0</td>\n",
       "      <td>0</td>\n",
       "      <td>0</td>\n",
       "      <td>1</td>\n",
       "      <td>0</td>\n",
       "    </tr>\n",
       "    <tr>\n",
       "      <th>154711</th>\n",
       "      <td>0</td>\n",
       "      <td>1</td>\n",
       "      <td>0</td>\n",
       "      <td>0</td>\n",
       "      <td>1</td>\n",
       "      <td>0</td>\n",
       "      <td>0</td>\n",
       "      <td>0</td>\n",
       "      <td>1</td>\n",
       "      <td>0</td>\n",
       "      <td>0</td>\n",
       "      <td>0</td>\n",
       "      <td>0</td>\n",
       "      <td>1</td>\n",
       "      <td>0</td>\n",
       "    </tr>\n",
       "    <tr>\n",
       "      <th>155062</th>\n",
       "      <td>0</td>\n",
       "      <td>0</td>\n",
       "      <td>1</td>\n",
       "      <td>0</td>\n",
       "      <td>1</td>\n",
       "      <td>0</td>\n",
       "      <td>0</td>\n",
       "      <td>0</td>\n",
       "      <td>1</td>\n",
       "      <td>0</td>\n",
       "      <td>0</td>\n",
       "      <td>0</td>\n",
       "      <td>1</td>\n",
       "      <td>0</td>\n",
       "      <td>0</td>\n",
       "    </tr>\n",
       "    <tr>\n",
       "      <th>158773</th>\n",
       "      <td>1</td>\n",
       "      <td>0</td>\n",
       "      <td>0</td>\n",
       "      <td>0</td>\n",
       "      <td>1</td>\n",
       "      <td>0</td>\n",
       "      <td>0</td>\n",
       "      <td>1</td>\n",
       "      <td>0</td>\n",
       "      <td>0</td>\n",
       "      <td>0</td>\n",
       "      <td>0</td>\n",
       "      <td>1</td>\n",
       "      <td>0</td>\n",
       "      <td>0</td>\n",
       "    </tr>\n",
       "    <tr>\n",
       "      <th>...</th>\n",
       "      <td>...</td>\n",
       "      <td>...</td>\n",
       "      <td>...</td>\n",
       "      <td>...</td>\n",
       "      <td>...</td>\n",
       "      <td>...</td>\n",
       "      <td>...</td>\n",
       "      <td>...</td>\n",
       "      <td>...</td>\n",
       "      <td>...</td>\n",
       "      <td>...</td>\n",
       "      <td>...</td>\n",
       "      <td>...</td>\n",
       "      <td>...</td>\n",
       "      <td>...</td>\n",
       "    </tr>\n",
       "    <tr>\n",
       "      <th>163710</th>\n",
       "      <td>0</td>\n",
       "      <td>1</td>\n",
       "      <td>0</td>\n",
       "      <td>0</td>\n",
       "      <td>1</td>\n",
       "      <td>0</td>\n",
       "      <td>0</td>\n",
       "      <td>0</td>\n",
       "      <td>1</td>\n",
       "      <td>0</td>\n",
       "      <td>0</td>\n",
       "      <td>0</td>\n",
       "      <td>1</td>\n",
       "      <td>0</td>\n",
       "      <td>0</td>\n",
       "    </tr>\n",
       "    <tr>\n",
       "      <th>143377</th>\n",
       "      <td>0</td>\n",
       "      <td>0</td>\n",
       "      <td>1</td>\n",
       "      <td>0</td>\n",
       "      <td>1</td>\n",
       "      <td>0</td>\n",
       "      <td>0</td>\n",
       "      <td>0</td>\n",
       "      <td>1</td>\n",
       "      <td>0</td>\n",
       "      <td>0</td>\n",
       "      <td>0</td>\n",
       "      <td>0</td>\n",
       "      <td>1</td>\n",
       "      <td>0</td>\n",
       "    </tr>\n",
       "    <tr>\n",
       "      <th>388773</th>\n",
       "      <td>1</td>\n",
       "      <td>0</td>\n",
       "      <td>0</td>\n",
       "      <td>0</td>\n",
       "      <td>1</td>\n",
       "      <td>0</td>\n",
       "      <td>0</td>\n",
       "      <td>0</td>\n",
       "      <td>1</td>\n",
       "      <td>0</td>\n",
       "      <td>0</td>\n",
       "      <td>0</td>\n",
       "      <td>0</td>\n",
       "      <td>1</td>\n",
       "      <td>0</td>\n",
       "    </tr>\n",
       "    <tr>\n",
       "      <th>393882</th>\n",
       "      <td>0</td>\n",
       "      <td>0</td>\n",
       "      <td>1</td>\n",
       "      <td>0</td>\n",
       "      <td>1</td>\n",
       "      <td>0</td>\n",
       "      <td>0</td>\n",
       "      <td>0</td>\n",
       "      <td>0</td>\n",
       "      <td>1</td>\n",
       "      <td>0</td>\n",
       "      <td>0</td>\n",
       "      <td>1</td>\n",
       "      <td>0</td>\n",
       "      <td>0</td>\n",
       "    </tr>\n",
       "    <tr>\n",
       "      <th>351158</th>\n",
       "      <td>1</td>\n",
       "      <td>0</td>\n",
       "      <td>0</td>\n",
       "      <td>0</td>\n",
       "      <td>1</td>\n",
       "      <td>0</td>\n",
       "      <td>0</td>\n",
       "      <td>0</td>\n",
       "      <td>0</td>\n",
       "      <td>1</td>\n",
       "      <td>0</td>\n",
       "      <td>0</td>\n",
       "      <td>1</td>\n",
       "      <td>0</td>\n",
       "      <td>0</td>\n",
       "    </tr>\n",
       "  </tbody>\n",
       "</table>\n",
       "<p>15101 rows × 15 columns</p>\n",
       "</div>"
      ],
      "text/plain": [
       "         postcode_sector_BS6 5  postcode_sector_BS6 6  postcode_sector_BS6 7  \\\n",
       "prop_id                                                                        \n",
       "147676                       0                      0                      1   \n",
       "152958                       1                      0                      0   \n",
       "154711                       0                      1                      0   \n",
       "155062                       0                      0                      1   \n",
       "158773                       1                      0                      0   \n",
       "...                        ...                    ...                    ...   \n",
       "163710                       0                      1                      0   \n",
       "143377                       0                      0                      1   \n",
       "388773                       1                      0                      0   \n",
       "393882                       0                      0                      1   \n",
       "351158                       1                      0                      0   \n",
       "\n",
       "         property_type_Bungalow/Chalet  property_type_Flat/Maisonette  \\\n",
       "prop_id                                                                 \n",
       "147676                               0                              1   \n",
       "152958                               0                              1   \n",
       "154711                               0                              1   \n",
       "155062                               0                              1   \n",
       "158773                               0                              1   \n",
       "...                                ...                            ...   \n",
       "163710                               0                              1   \n",
       "143377                               0                              1   \n",
       "388773                               0                              1   \n",
       "393882                               0                              1   \n",
       "351158                               0                              1   \n",
       "\n",
       "         property_type_House  ht_property_type_All  ht_property_type_Detached  \\\n",
       "prop_id                                                                         \n",
       "147676                     0                     0                          0   \n",
       "152958                     0                     0                          0   \n",
       "154711                     0                     0                          0   \n",
       "155062                     0                     0                          0   \n",
       "158773                     0                     0                          1   \n",
       "...                      ...                   ...                        ...   \n",
       "163710                     0                     0                          0   \n",
       "143377                     0                     0                          0   \n",
       "388773                     0                     0                          0   \n",
       "393882                     0                     0                          0   \n",
       "351158                     0                     0                          0   \n",
       "\n",
       "         ht_property_type_Flat/Maisonette  ht_property_type_Semi-Detached  \\\n",
       "prop_id                                                                     \n",
       "147676                                  1                               0   \n",
       "152958                                  1                               0   \n",
       "154711                                  1                               0   \n",
       "155062                                  1                               0   \n",
       "158773                                  0                               0   \n",
       "...                                   ...                             ...   \n",
       "163710                                  1                               0   \n",
       "143377                                  1                               0   \n",
       "388773                                  1                               0   \n",
       "393882                                  0                               1   \n",
       "351158                                  0                               1   \n",
       "\n",
       "         ht_property_type_Terraced  tenure_Feudal  tenure_Freehold  \\\n",
       "prop_id                                                              \n",
       "147676                           0              0                0   \n",
       "152958                           0              0                0   \n",
       "154711                           0              0                0   \n",
       "155062                           0              0                1   \n",
       "158773                           0              0                1   \n",
       "...                            ...            ...              ...   \n",
       "163710                           0              0                1   \n",
       "143377                           0              0                0   \n",
       "388773                           0              0                0   \n",
       "393882                           0              0                1   \n",
       "351158                           0              0                1   \n",
       "\n",
       "         tenure_Leasehold  tenure_Shared  \n",
       "prop_id                                   \n",
       "147676                  1              0  \n",
       "152958                  1              0  \n",
       "154711                  1              0  \n",
       "155062                  0              0  \n",
       "158773                  0              0  \n",
       "...                   ...            ...  \n",
       "163710                  0              0  \n",
       "143377                  1              0  \n",
       "388773                  1              0  \n",
       "393882                  0              0  \n",
       "351158                  0              0  \n",
       "\n",
       "[15101 rows x 15 columns]"
      ]
     },
     "execution_count": 14,
     "metadata": {},
     "output_type": "execute_result"
    }
   ],
   "source": [
    "all_encoded_data = pd.DataFrame()\n",
    "for col in to_encode:\n",
    "    encoded_data = encode_categorical_variable(input_df=properties, col_name = col, id_col = 'prop_id')\n",
    "    all_encoded_data = join_to_df(encoded_data, all_encoded_data)\n",
    "\n",
    "all_encoded_data    "
   ]
  },
  {
   "cell_type": "code",
   "execution_count": 15,
   "metadata": {},
   "outputs": [
    {
     "name": "stdout",
     "output_type": "stream",
     "text": [
      "(1965, 25)\n",
      "(1952, 25)\n"
     ]
    }
   ],
   "source": [
    "classification_data = (properties[['prop_id'] + training_features].set_index('prop_id').join(all_encoded_data).reset_index())\n",
    "classification_data = classification_data.merge(labeled_data[['prop_id', 'Label']], on = 'prop_id')\n",
    "print(classification_data.shape)\n",
    "classification_data = classification_data.dropna()\n",
    "print(classification_data.shape)"
   ]
  },
  {
   "cell_type": "code",
   "execution_count": 17,
   "metadata": {},
   "outputs": [
    {
     "name": "stdout",
     "output_type": "stream",
     "text": [
      "(1171, 23) (1171, 1) (390, 23) (390, 1) (391, 23) (391, 1)\n"
     ]
    }
   ],
   "source": [
    "label = ['Label']\n",
    "training_columns = [col for col in classification_data.columns if col not in ['prop_id', 'Label']]\n",
    "X = classification_data[training_columns]\n",
    "y = classification_data[label]\n",
    "from sklearn.model_selection import train_test_split\n",
    "X_train, X_remaining, y_train, y_remaining = train_test_split(X, y, test_size=0.4, random_state=42)\n",
    "X_val, X_test, y_val, y_test = train_test_split(X_remaining, y_remaining, test_size=0.5, random_state=42)\n",
    "print(X_train.shape, y_train.shape, X_val.shape, y_val.shape, X_test.shape, y_test.shape)\n"
   ]
  },
  {
   "cell_type": "code",
   "execution_count": 19,
   "metadata": {},
   "outputs": [
    {
     "data": {
      "text/plain": [
       "0.7387295081967213"
      ]
     },
     "execution_count": 19,
     "metadata": {},
     "output_type": "execute_result"
    }
   ],
   "source": [
    "y.value_counts()['Inhabitants']/y.shape[0]"
   ]
  },
  {
   "cell_type": "code",
   "execution_count": 20,
   "metadata": {},
   "outputs": [
    {
     "name": "stdout",
     "output_type": "stream",
     "text": [
      " --------------------- RF --------------------\n",
      "RF\n",
      "Accuracy of RF classifier on test set: 0.7846\n",
      "Precision of RF classifier on test set: 0.7691\n",
      "F1-score (unweighted) of RF classifier on test set: 0.6728\n",
      "F1-score (weigthed) of RF classifier on test set: 0.7621"
     ]
    },
    {
     "name": "stderr",
     "output_type": "stream",
     "text": [
      "A column-vector y was passed when a 1d array was expected. Please change the shape of y to (n_samples,), for example using ravel().\n",
      "A column-vector y was passed when a 1d array was expected. Please change the shape of y to (n_samples, ), for example using ravel().\n"
     ]
    },
    {
     "name": "stdout",
     "output_type": "stream",
     "text": [
      "\n",
      " --------------------- LR --------------------\n",
      "LR\n",
      "Accuracy of LR classifier on test set: 0.5641\n",
      "Precision of LR classifier on test set: 0.7037\n",
      "F1-score (unweighted) of LR classifier on test set: 0.5496\n",
      "F1-score (weigthed) of LR classifier on test set: 0.5873\n",
      " --------------------- XGB --------------------\n",
      "XGBoost\n",
      "[09:21:46] WARNING: /var/folders/sy/f16zz6x50xz3113nwtb9bvq00000gp/T/abs_44tbtwf8c1/croots/recipe/xgboost-split_1659548960882/work/src/learner.cc:1115: Starting in XGBoost 1.3.0, the default evaluation metric used with the objective 'binary:logistic' was changed from 'error' to 'logloss'. Explicitly set eval_metric if you'd like to restore the old behavior.\n"
     ]
    },
    {
     "name": "stderr",
     "output_type": "stream",
     "text": [
      "The use of label encoder in XGBClassifier is deprecated and will be removed in a future release. To remove this warning, do the following: 1) Pass option use_label_encoder=False when constructing XGBClassifier object; and 2) Encode your labels (y) as integers starting with 0, i.e. 0, 1, 2, ..., [num_class - 1].\n",
      "A column-vector y was passed when a 1d array was expected. Please change the shape of y to (n_samples, ), for example using ravel().\n",
      "A column-vector y was passed when a 1d array was expected. Please change the shape of y to (n_samples, ), for example using ravel().\n",
      "pandas.Int64Index is deprecated and will be removed from pandas in a future version. Use pandas.Index with the appropriate dtype instead.\n"
     ]
    },
    {
     "name": "stdout",
     "output_type": "stream",
     "text": [
      "Accuracy of XGBoost classifier on test set: 0.7513\n",
      "Precision of XGBoost classifier on test set: 0.7276\n",
      "F1-score (unweighted) of XGBoost classifier on test set: 0.6336\n",
      "F1-score (weigthed) of XGBoost classifier on test set: 0.7305\n"
     ]
    }
   ],
   "source": [
    "\n",
    "# Random Forest\n",
    "print(\" --------------------- RF --------------------\")\n",
    "classifiers_outputs = {}\n",
    "rf = CustomClassifier(\"RF\")\n",
    "rf.set_train_and_test_data(X_train, X_val, y_train, y_val)\n",
    "# rf.split_to_train_and_test_set(X, y, test_size=0.4)\n",
    "rf.fit_model()\n",
    "\n",
    "classifiers_outputs[\"RF\"] = rf.estimate_accuracy()\n",
    "rf.estimate_precision()\n",
    "rf.estimate_f1_score()\n",
    "\n",
    "# Logistic Regression\n",
    "print(\" --------------------- LR --------------------\")\n",
    "lr = CustomClassifier(\"LR\")\n",
    "lr.set_train_and_test_data(X_train, X_val, y_train, y_val)\n",
    "lr.fit_model()\n",
    "\n",
    "lr.estimate_accuracy()\n",
    "lr.estimate_precision()\n",
    "lr.estimate_f1_score()\n",
    "\n",
    "# XGBoost\n",
    "print(\" --------------------- XGB --------------------\")\n",
    "xgb = CustomClassifier(\"XGBoost\")\n",
    "xgb.set_train_and_test_data(X_train, X_val, y_train, y_val)\n",
    "xgb.fit_model()\n",
    "xgb.estimate_accuracy()\n",
    "xgb.estimate_precision()\n",
    "xgb.estimate_f1_score()"
   ]
  },
  {
   "cell_type": "code",
   "execution_count": 21,
   "metadata": {},
   "outputs": [
    {
     "data": {
      "text/html": [
       "<div>\n",
       "<style scoped>\n",
       "    .dataframe tbody tr th:only-of-type {\n",
       "        vertical-align: middle;\n",
       "    }\n",
       "\n",
       "    .dataframe tbody tr th {\n",
       "        vertical-align: top;\n",
       "    }\n",
       "\n",
       "    .dataframe thead th {\n",
       "        text-align: right;\n",
       "    }\n",
       "</style>\n",
       "<table border=\"1\" class=\"dataframe\">\n",
       "  <thead>\n",
       "    <tr style=\"text-align: right;\">\n",
       "      <th></th>\n",
       "      <th>Accuracy</th>\n",
       "      <th>Precision</th>\n",
       "      <th>F1_score unweighted</th>\n",
       "      <th>F1_score weighted</th>\n",
       "    </tr>\n",
       "  </thead>\n",
       "  <tbody>\n",
       "    <tr>\n",
       "      <th>RF</th>\n",
       "      <td>0.785</td>\n",
       "      <td>0.769</td>\n",
       "      <td>0.673</td>\n",
       "      <td>0.762</td>\n",
       "    </tr>\n",
       "    <tr>\n",
       "      <th>LR</th>\n",
       "      <td>0.564</td>\n",
       "      <td>0.704</td>\n",
       "      <td>0.55</td>\n",
       "      <td>0.587</td>\n",
       "    </tr>\n",
       "    <tr>\n",
       "      <th>XGBoost</th>\n",
       "      <td>0.751</td>\n",
       "      <td>0.728</td>\n",
       "      <td>0.634</td>\n",
       "      <td>0.731</td>\n",
       "    </tr>\n",
       "  </tbody>\n",
       "</table>\n",
       "</div>"
      ],
      "text/plain": [
       "        Accuracy Precision F1_score unweighted F1_score weighted\n",
       "RF         0.785     0.769               0.673             0.762\n",
       "LR         0.564     0.704                0.55             0.587\n",
       "XGBoost    0.751     0.728               0.634             0.731"
      ]
     },
     "execution_count": 21,
     "metadata": {},
     "output_type": "execute_result"
    }
   ],
   "source": [
    "# Results formatted\n",
    "classifiers_list = [rf, lr, xgb]\n",
    "classifiers_outputs = pd.DataFrame(columns = [\"RF\", \"LR\", \"XGBoost\"], index = [\"Accuracy\" , \"Precision\", \"F1_score unweighted\", \"F1_score weighted\"])\n",
    "for classifier in classifiers_list:\n",
    "    classifiers_outputs.loc['Accuracy', classifier.model] = round(classifier.accuracy, 3)\n",
    "    classifiers_outputs.loc['Precision', classifier.model] = round(classifier.precision, 3)\n",
    "    classifiers_outputs.loc['F1_score unweighted', classifier.model] = round(classifier.f1_score_macro, 3)\n",
    "    classifiers_outputs.loc['F1_score weighted', classifier.model] = round(classifier.f1_score_weighted, 3)\n",
    "\n",
    "classifiers_outputs.T#.to_clipboard()"
   ]
  },
  {
   "cell_type": "code",
   "execution_count": 23,
   "metadata": {},
   "outputs": [
    {
     "data": {
      "text/html": [
       "<div>\n",
       "<style scoped>\n",
       "    .dataframe tbody tr th:only-of-type {\n",
       "        vertical-align: middle;\n",
       "    }\n",
       "\n",
       "    .dataframe tbody tr th {\n",
       "        vertical-align: top;\n",
       "    }\n",
       "\n",
       "    .dataframe thead th {\n",
       "        text-align: right;\n",
       "    }\n",
       "</style>\n",
       "<table border=\"1\" class=\"dataframe\">\n",
       "  <thead>\n",
       "    <tr style=\"text-align: right;\">\n",
       "      <th></th>\n",
       "      <th>Label</th>\n",
       "    </tr>\n",
       "  </thead>\n",
       "  <tbody>\n",
       "    <tr>\n",
       "      <th>0</th>\n",
       "      <td>Inhabitants</td>\n",
       "    </tr>\n",
       "    <tr>\n",
       "      <th>3</th>\n",
       "      <td>Renters</td>\n",
       "    </tr>\n",
       "  </tbody>\n",
       "</table>\n",
       "</div>"
      ],
      "text/plain": [
       "         Label\n",
       "0  Inhabitants\n",
       "3      Renters"
      ]
     },
     "execution_count": 23,
     "metadata": {},
     "output_type": "execute_result"
    }
   ],
   "source": [
    "y.drop_duplicates()"
   ]
  },
  {
   "cell_type": "code",
   "execution_count": null,
   "metadata": {},
   "outputs": [],
   "source": [
    "explainer = shap.TreeExplainer(cls)\n",
    "shap_values = explainer.shap_values(rf.classifier)\n",
    "shap.summary_plot(shap_values, X.values, plot_type=\"bar\", class_names= [], feature_names = X.columns)"
   ]
  },
  {
   "cell_type": "code",
   "execution_count": 21,
   "metadata": {},
   "outputs": [
    {
     "data": {
      "text/html": [
       "<div>\n",
       "<style scoped>\n",
       "    .dataframe tbody tr th:only-of-type {\n",
       "        vertical-align: middle;\n",
       "    }\n",
       "\n",
       "    .dataframe tbody tr th {\n",
       "        vertical-align: top;\n",
       "    }\n",
       "\n",
       "    .dataframe thead th {\n",
       "        text-align: right;\n",
       "    }\n",
       "</style>\n",
       "<table border=\"1\" class=\"dataframe\">\n",
       "  <thead>\n",
       "    <tr style=\"text-align: right;\">\n",
       "      <th></th>\n",
       "      <th>Feature</th>\n",
       "      <th>Significance</th>\n",
       "    </tr>\n",
       "  </thead>\n",
       "  <tbody>\n",
       "    <tr>\n",
       "      <th>7</th>\n",
       "      <td>property_rental_value</td>\n",
       "      <td>0.150716</td>\n",
       "    </tr>\n",
       "    <tr>\n",
       "      <th>6</th>\n",
       "      <td>property_value</td>\n",
       "      <td>0.130876</td>\n",
       "    </tr>\n",
       "    <tr>\n",
       "      <th>1</th>\n",
       "      <td>y_coordinate</td>\n",
       "      <td>0.122811</td>\n",
       "    </tr>\n",
       "    <tr>\n",
       "      <th>4</th>\n",
       "      <td>floor_area</td>\n",
       "      <td>0.118552</td>\n",
       "    </tr>\n",
       "    <tr>\n",
       "      <th>0</th>\n",
       "      <td>x_coordinate</td>\n",
       "      <td>0.117809</td>\n",
       "    </tr>\n",
       "    <tr>\n",
       "      <th>5</th>\n",
       "      <td>year_built</td>\n",
       "      <td>0.105412</td>\n",
       "    </tr>\n",
       "    <tr>\n",
       "      <th>3</th>\n",
       "      <td>bedrooms</td>\n",
       "      <td>0.100888</td>\n",
       "    </tr>\n",
       "    <tr>\n",
       "      <th>21</th>\n",
       "      <td>tenure_Leasehold</td>\n",
       "      <td>0.023565</td>\n",
       "    </tr>\n",
       "    <tr>\n",
       "      <th>2</th>\n",
       "      <td>bathrooms</td>\n",
       "      <td>0.019948</td>\n",
       "    </tr>\n",
       "    <tr>\n",
       "      <th>20</th>\n",
       "      <td>tenure_Freehold</td>\n",
       "      <td>0.018845</td>\n",
       "    </tr>\n",
       "    <tr>\n",
       "      <th>16</th>\n",
       "      <td>ht_property_type_Flat/Maisonette</td>\n",
       "      <td>0.012410</td>\n",
       "    </tr>\n",
       "    <tr>\n",
       "      <th>9</th>\n",
       "      <td>postcode_sector_BS6 6</td>\n",
       "      <td>0.012199</td>\n",
       "    </tr>\n",
       "    <tr>\n",
       "      <th>18</th>\n",
       "      <td>ht_property_type_Terraced</td>\n",
       "      <td>0.010921</td>\n",
       "    </tr>\n",
       "    <tr>\n",
       "      <th>17</th>\n",
       "      <td>ht_property_type_Semi-Detached</td>\n",
       "      <td>0.010392</td>\n",
       "    </tr>\n",
       "    <tr>\n",
       "      <th>10</th>\n",
       "      <td>postcode_sector_BS6 7</td>\n",
       "      <td>0.008897</td>\n",
       "    </tr>\n",
       "    <tr>\n",
       "      <th>8</th>\n",
       "      <td>postcode_sector_BS6 5</td>\n",
       "      <td>0.008446</td>\n",
       "    </tr>\n",
       "    <tr>\n",
       "      <th>12</th>\n",
       "      <td>property_type_Flat/Maisonette</td>\n",
       "      <td>0.008178</td>\n",
       "    </tr>\n",
       "    <tr>\n",
       "      <th>13</th>\n",
       "      <td>property_type_House</td>\n",
       "      <td>0.006787</td>\n",
       "    </tr>\n",
       "    <tr>\n",
       "      <th>15</th>\n",
       "      <td>ht_property_type_Detached</td>\n",
       "      <td>0.005751</td>\n",
       "    </tr>\n",
       "    <tr>\n",
       "      <th>14</th>\n",
       "      <td>ht_property_type_All</td>\n",
       "      <td>0.002220</td>\n",
       "    </tr>\n",
       "    <tr>\n",
       "      <th>19</th>\n",
       "      <td>tenure_Feudal</td>\n",
       "      <td>0.001850</td>\n",
       "    </tr>\n",
       "    <tr>\n",
       "      <th>22</th>\n",
       "      <td>tenure_Shared</td>\n",
       "      <td>0.001315</td>\n",
       "    </tr>\n",
       "    <tr>\n",
       "      <th>11</th>\n",
       "      <td>property_type_Bungalow/Chalet</td>\n",
       "      <td>0.001210</td>\n",
       "    </tr>\n",
       "  </tbody>\n",
       "</table>\n",
       "</div>"
      ],
      "text/plain": [
       "                             Feature  Significance\n",
       "7              property_rental_value      0.150716\n",
       "6                     property_value      0.130876\n",
       "1                       y_coordinate      0.122811\n",
       "4                         floor_area      0.118552\n",
       "0                       x_coordinate      0.117809\n",
       "5                         year_built      0.105412\n",
       "3                           bedrooms      0.100888\n",
       "21                  tenure_Leasehold      0.023565\n",
       "2                          bathrooms      0.019948\n",
       "20                   tenure_Freehold      0.018845\n",
       "16  ht_property_type_Flat/Maisonette      0.012410\n",
       "9              postcode_sector_BS6 6      0.012199\n",
       "18         ht_property_type_Terraced      0.010921\n",
       "17    ht_property_type_Semi-Detached      0.010392\n",
       "10             postcode_sector_BS6 7      0.008897\n",
       "8              postcode_sector_BS6 5      0.008446\n",
       "12     property_type_Flat/Maisonette      0.008178\n",
       "13               property_type_House      0.006787\n",
       "15         ht_property_type_Detached      0.005751\n",
       "14              ht_property_type_All      0.002220\n",
       "19                     tenure_Feudal      0.001850\n",
       "22                     tenure_Shared      0.001315\n",
       "11     property_type_Bungalow/Chalet      0.001210"
      ]
     },
     "execution_count": 21,
     "metadata": {},
     "output_type": "execute_result"
    }
   ],
   "source": [
    "rf.estimate_feature_importance()"
   ]
  },
  {
   "cell_type": "code",
   "execution_count": 71,
   "metadata": {},
   "outputs": [
    {
     "data": {
      "text/plain": [
       "{'bootstrap': True,\n",
       " 'ccp_alpha': 0.0,\n",
       " 'class_weight': None,\n",
       " 'criterion': 'gini',\n",
       " 'max_depth': None,\n",
       " 'max_features': 'auto',\n",
       " 'max_leaf_nodes': None,\n",
       " 'max_samples': None,\n",
       " 'min_impurity_decrease': 0.0,\n",
       " 'min_samples_leaf': 1,\n",
       " 'min_samples_split': 2,\n",
       " 'min_weight_fraction_leaf': 0.0,\n",
       " 'n_estimators': 100,\n",
       " 'n_jobs': None,\n",
       " 'oob_score': False,\n",
       " 'random_state': 7,\n",
       " 'verbose': 0,\n",
       " 'warm_start': False}"
      ]
     },
     "execution_count": 71,
     "metadata": {},
     "output_type": "execute_result"
    }
   ],
   "source": [
    "# How to deal with imbalanced dataset?\n",
    "# Model Optimisation \n",
    "rf.classifier.get_params()\n",
    "{\n",
    "    n_estimators : [],\n",
    "    \n",
    "\n",
    "}"
   ]
  },
  {
   "cell_type": "code",
   "execution_count": null,
   "metadata": {},
   "outputs": [],
   "source": [
    "# Predict on Remaining data"
   ]
  }
 ],
 "metadata": {
  "kernelspec": {
   "display_name": "Python 3.8.15 ('outra_kernel')",
   "language": "python",
   "name": "python3"
  },
  "language_info": {
   "codemirror_mode": {
    "name": "ipython",
    "version": 3
   },
   "file_extension": ".py",
   "mimetype": "text/x-python",
   "name": "python",
   "nbconvert_exporter": "python",
   "pygments_lexer": "ipython3",
   "version": "3.8.15"
  },
  "orig_nbformat": 4,
  "vscode": {
   "interpreter": {
    "hash": "ac6d0ce89d6d2751ec6b1b484b3b31307ff8df3f5c85331ec42723d8b35061e6"
   }
  }
 },
 "nbformat": 4,
 "nbformat_minor": 2
}
