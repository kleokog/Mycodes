{
 "cells": [
  {
   "cell_type": "code",
   "execution_count": 1,
   "outputs": [],
   "source": [
    "import pandas as pd\n",
    "pd.options.display.float_format = '{:,.4f}'.format\n",
    "from datetime import datetime\n",
    "import math"
   ],
   "metadata": {
    "collapsed": false,
    "pycharm": {
     "name": "#%%\n"
    }
   }
  },
  {
   "cell_type": "code",
   "execution_count": 2,
   "outputs": [
    {
     "name": "stdout",
     "output_type": "stream",
     "text": [
      "(46301, 7)\n",
      "(11102, 4)\n",
      "(4315, 2)\n"
     ]
    }
   ],
   "source": [
    "case_data = pd.read_csv(\"../data/case.csv\", index_col=False)\n",
    "print(case_data.shape)\n",
    "tenacy_data = pd.read_csv(\"../data/tenancy.csv\", index_col=False)\n",
    "print(tenacy_data.shape)\n",
    "vulnerability_data = pd.read_csv(\"../data/vulnerability.csv\", index_col=False)\n",
    "print(vulnerability_data.shape)"
   ],
   "metadata": {
    "collapsed": false,
    "pycharm": {
     "name": "#%%\n"
    }
   }
  },
  {
   "cell_type": "markdown",
   "source": [
    "# Merge datasets"
   ],
   "metadata": {
    "collapsed": false,
    "pycharm": {
     "name": "#%% md\n"
    }
   }
  },
  {
   "cell_type": "code",
   "execution_count": 3,
   "outputs": [],
   "source": [
    "#  Convert string dates to dates\n",
    "tenacy_data['tenancy_start_date_as_date'] = tenacy_data['tenancy_start_date'].apply(lambda x :  datetime.strptime(x, '%d/%m/%Y'))\n",
    "tenacy_data['tenancy_end_date_as_date'] = tenacy_data['tenancy_end_date'].apply(lambda x :  datetime.now()if str(x) == 'nan' else datetime.strptime(x, '%d/%m/%Y'))\n",
    "case_data['case_create_date_as_date'] = case_data['case_create_date'].apply(lambda x :  datetime.strptime(x, '%d/%m/%Y %H:%M'))"
   ],
   "metadata": {
    "collapsed": false,
    "pycharm": {
     "name": "#%%\n"
    }
   }
  },
  {
   "cell_type": "code",
   "execution_count": 4,
   "outputs": [
    {
     "name": "stdout",
     "output_type": "stream",
     "text": [
      "(46301, 8) (11102, 6)\n",
      "(45364, 13)\n",
      "(45364, 16)\n"
     ]
    }
   ],
   "source": [
    "# Merge tenacy with case data\n",
    "print(case_data.shape, tenacy_data.shape)\n",
    "units_cases_df =case_data.merge(tenacy_data, on = 'unit_ref')\n",
    "units_cases_df = units_cases_df[units_cases_df['case_create_date_as_date'] >= units_cases_df['tenancy_start_date_as_date']]\n",
    "units_cases_df = units_cases_df[units_cases_df['case_create_date_as_date'] <= units_cases_df['tenancy_end_date_as_date']]\n",
    "print(units_cases_df.shape)\n",
    "units_cases_df['time_until_the_case (days)'] = units_cases_df.apply(lambda row :( row['case_create_date_as_date'] - row['tenancy_start_date_as_date']).days, axis = 1 )\n",
    "\n",
    "# Merge with vulnerability\n",
    "vulnerability_data_packed = vulnerability_data.groupby(['tenancy_id'])['Vulnerability'].apply(list).reset_index()\n",
    "units_cases_df = units_cases_df.merge(vulnerability_data_packed, on = 'tenancy_id', how= 'left')\n",
    "units_cases_df['number of vulnerabilities'] = units_cases_df['Vulnerability'].apply(lambda x : 0 if str(x) == 'nan' else len(x))\n",
    "units_cases_df['Vulnerability'] = units_cases_df['Vulnerability'].apply(lambda x : x if isinstance(x, list) else ['Healthy'])\n",
    "print(units_cases_df.shape)\n",
    "\n",
    "# Vulnerability label\n",
    "units_cases_df['vulnerability_boolean'] = units_cases_df['number of vulnerabilities'].apply(lambda x : 0 if x == 0 else 1 )\n",
    "\n",
    "# Create label\n",
    "units_cases_df['label'] = units_cases_df['case_sub_type'].apply(lambda x : 1 if x == 'Damp & Mould' else 0)"
   ],
   "metadata": {
    "collapsed": false,
    "pycharm": {
     "name": "#%%\n"
    }
   }
  },
  {
   "cell_type": "code",
   "execution_count": 5,
   "outputs": [
    {
     "data": {
      "text/plain": "      case_number  unit_ref  unit_build_year case_status           case_type  \\\n0           Case0  Unit8230       2,005.0000    Resolved                 ASB   \n1          Case97  Unit8230       2,005.0000    Resolved                 ASB   \n2          Case99  Unit8230       2,005.0000    Resolved               Query   \n3         Case101  Unit8230       2,005.0000    Resolved                 ASB   \n4        Case1027  Unit8230       2,005.0000    Resolved  Direct Maintenance   \n...           ...       ...              ...         ...                 ...   \n45359   Case46108  Unit8101       2,018.0000    Resolved     Service Charges   \n45360   Case46143  Unit6914       2,004.0000    Resolved     Service Charges   \n45361   Case46182  Unit1190              NaN    Resolved     Service Charges   \n45362   Case46201  Unit4371       1,899.0000    Resolved              Income   \n45363   Case46287  Unit6298       2,013.0000      Active              Income   \n\n                         case_sub_type  case_create_date  \\\n0                                  NaN  21/02/2019 10:20   \n1                                  NaN  22/05/2019 07:08   \n2                                  NaN  22/05/2019 07:33   \n3                                  NaN  22/05/2019 07:59   \n4                            OOH / ECO  13/06/2019 13:33   \n...                                ...               ...   \n45359  Calculation/Apportionment Query  08/05/2019 09:27   \n45360  Calculation/Apportionment Query  10/05/2019 14:21   \n45361        Invoice/Breakdown Request  14/05/2019 12:59   \n45362             Direct Debit Enquiry  15/05/2019 09:22   \n45363                  Account Enquiry  17/05/2019 13:42   \n\n      case_create_date_as_date  tenancy_id tenancy_start_date  \\\n0          2019-02-21 10:20:00  Tenant8773         21/08/2017   \n1          2019-05-22 07:08:00  Tenant8773         21/08/2017   \n2          2019-05-22 07:33:00  Tenant8773         21/08/2017   \n3          2019-05-22 07:59:00  Tenant8773         21/08/2017   \n4          2019-06-13 13:33:00  Tenant8773         21/08/2017   \n...                        ...         ...                ...   \n45359      2019-05-08 09:27:00  Tenant7930         30/08/2018   \n45360      2019-05-10 14:21:00  Tenant3261         06/08/2004   \n45361      2019-05-14 12:59:00  Tenant2262         14/05/2004   \n45362      2019-05-15 09:22:00  Tenant6001         13/05/2019   \n45363      2019-05-17 13:42:00  Tenant8440         22/03/2013   \n\n      tenancy_end_date tenancy_start_date_as_date   tenancy_end_date_as_date  \\\n0                  NaN                 2017-08-21 2022-07-29 13:37:11.185120   \n1                  NaN                 2017-08-21 2022-07-29 13:37:11.185120   \n2                  NaN                 2017-08-21 2022-07-29 13:37:11.185120   \n3                  NaN                 2017-08-21 2022-07-29 13:37:11.185120   \n4                  NaN                 2017-08-21 2022-07-29 13:37:11.185120   \n...                ...                        ...                        ...   \n45359              NaN                 2018-08-30 2022-07-29 13:37:11.184054   \n45360              NaN                 2004-08-06 2022-07-29 13:37:11.178118   \n45361              NaN                 2004-05-14 2022-07-29 13:37:11.176980   \n45362              NaN                 2019-05-13 2022-07-29 13:37:11.181748   \n45363       23/10/2019                 2013-03-22 2019-10-23 00:00:00.000000   \n\n       time_until_the_case (days)             Vulnerability  \\\n0                             549  [Illness, Mental Health]   \n1                             639  [Illness, Mental Health]   \n2                             639  [Illness, Mental Health]   \n3                             639  [Illness, Mental Health]   \n4                             661  [Illness, Mental Health]   \n...                           ...                       ...   \n45359                         251                 [Healthy]   \n45360                        5390                 [Healthy]   \n45361                        5478                 [Healthy]   \n45362                           2        [Illness, Elderly]   \n45363                        2247                 [Healthy]   \n\n       number of vulnerabilities  vulnerability_boolean  label  \n0                              2                      1      0  \n1                              2                      1      0  \n2                              2                      1      0  \n3                              2                      1      0  \n4                              2                      1      0  \n...                          ...                    ...    ...  \n45359                          0                      0      0  \n45360                          0                      0      0  \n45361                          0                      0      0  \n45362                          2                      1      0  \n45363                          0                      0      0  \n\n[45364 rows x 18 columns]",
      "text/html": "<div>\n<style scoped>\n    .dataframe tbody tr th:only-of-type {\n        vertical-align: middle;\n    }\n\n    .dataframe tbody tr th {\n        vertical-align: top;\n    }\n\n    .dataframe thead th {\n        text-align: right;\n    }\n</style>\n<table border=\"1\" class=\"dataframe\">\n  <thead>\n    <tr style=\"text-align: right;\">\n      <th></th>\n      <th>case_number</th>\n      <th>unit_ref</th>\n      <th>unit_build_year</th>\n      <th>case_status</th>\n      <th>case_type</th>\n      <th>case_sub_type</th>\n      <th>case_create_date</th>\n      <th>case_create_date_as_date</th>\n      <th>tenancy_id</th>\n      <th>tenancy_start_date</th>\n      <th>tenancy_end_date</th>\n      <th>tenancy_start_date_as_date</th>\n      <th>tenancy_end_date_as_date</th>\n      <th>time_until_the_case (days)</th>\n      <th>Vulnerability</th>\n      <th>number of vulnerabilities</th>\n      <th>vulnerability_boolean</th>\n      <th>label</th>\n    </tr>\n  </thead>\n  <tbody>\n    <tr>\n      <th>0</th>\n      <td>Case0</td>\n      <td>Unit8230</td>\n      <td>2,005.0000</td>\n      <td>Resolved</td>\n      <td>ASB</td>\n      <td>NaN</td>\n      <td>21/02/2019 10:20</td>\n      <td>2019-02-21 10:20:00</td>\n      <td>Tenant8773</td>\n      <td>21/08/2017</td>\n      <td>NaN</td>\n      <td>2017-08-21</td>\n      <td>2022-07-29 13:37:11.185120</td>\n      <td>549</td>\n      <td>[Illness, Mental Health]</td>\n      <td>2</td>\n      <td>1</td>\n      <td>0</td>\n    </tr>\n    <tr>\n      <th>1</th>\n      <td>Case97</td>\n      <td>Unit8230</td>\n      <td>2,005.0000</td>\n      <td>Resolved</td>\n      <td>ASB</td>\n      <td>NaN</td>\n      <td>22/05/2019 07:08</td>\n      <td>2019-05-22 07:08:00</td>\n      <td>Tenant8773</td>\n      <td>21/08/2017</td>\n      <td>NaN</td>\n      <td>2017-08-21</td>\n      <td>2022-07-29 13:37:11.185120</td>\n      <td>639</td>\n      <td>[Illness, Mental Health]</td>\n      <td>2</td>\n      <td>1</td>\n      <td>0</td>\n    </tr>\n    <tr>\n      <th>2</th>\n      <td>Case99</td>\n      <td>Unit8230</td>\n      <td>2,005.0000</td>\n      <td>Resolved</td>\n      <td>Query</td>\n      <td>NaN</td>\n      <td>22/05/2019 07:33</td>\n      <td>2019-05-22 07:33:00</td>\n      <td>Tenant8773</td>\n      <td>21/08/2017</td>\n      <td>NaN</td>\n      <td>2017-08-21</td>\n      <td>2022-07-29 13:37:11.185120</td>\n      <td>639</td>\n      <td>[Illness, Mental Health]</td>\n      <td>2</td>\n      <td>1</td>\n      <td>0</td>\n    </tr>\n    <tr>\n      <th>3</th>\n      <td>Case101</td>\n      <td>Unit8230</td>\n      <td>2,005.0000</td>\n      <td>Resolved</td>\n      <td>ASB</td>\n      <td>NaN</td>\n      <td>22/05/2019 07:59</td>\n      <td>2019-05-22 07:59:00</td>\n      <td>Tenant8773</td>\n      <td>21/08/2017</td>\n      <td>NaN</td>\n      <td>2017-08-21</td>\n      <td>2022-07-29 13:37:11.185120</td>\n      <td>639</td>\n      <td>[Illness, Mental Health]</td>\n      <td>2</td>\n      <td>1</td>\n      <td>0</td>\n    </tr>\n    <tr>\n      <th>4</th>\n      <td>Case1027</td>\n      <td>Unit8230</td>\n      <td>2,005.0000</td>\n      <td>Resolved</td>\n      <td>Direct Maintenance</td>\n      <td>OOH / ECO</td>\n      <td>13/06/2019 13:33</td>\n      <td>2019-06-13 13:33:00</td>\n      <td>Tenant8773</td>\n      <td>21/08/2017</td>\n      <td>NaN</td>\n      <td>2017-08-21</td>\n      <td>2022-07-29 13:37:11.185120</td>\n      <td>661</td>\n      <td>[Illness, Mental Health]</td>\n      <td>2</td>\n      <td>1</td>\n      <td>0</td>\n    </tr>\n    <tr>\n      <th>...</th>\n      <td>...</td>\n      <td>...</td>\n      <td>...</td>\n      <td>...</td>\n      <td>...</td>\n      <td>...</td>\n      <td>...</td>\n      <td>...</td>\n      <td>...</td>\n      <td>...</td>\n      <td>...</td>\n      <td>...</td>\n      <td>...</td>\n      <td>...</td>\n      <td>...</td>\n      <td>...</td>\n      <td>...</td>\n      <td>...</td>\n    </tr>\n    <tr>\n      <th>45359</th>\n      <td>Case46108</td>\n      <td>Unit8101</td>\n      <td>2,018.0000</td>\n      <td>Resolved</td>\n      <td>Service Charges</td>\n      <td>Calculation/Apportionment Query</td>\n      <td>08/05/2019 09:27</td>\n      <td>2019-05-08 09:27:00</td>\n      <td>Tenant7930</td>\n      <td>30/08/2018</td>\n      <td>NaN</td>\n      <td>2018-08-30</td>\n      <td>2022-07-29 13:37:11.184054</td>\n      <td>251</td>\n      <td>[Healthy]</td>\n      <td>0</td>\n      <td>0</td>\n      <td>0</td>\n    </tr>\n    <tr>\n      <th>45360</th>\n      <td>Case46143</td>\n      <td>Unit6914</td>\n      <td>2,004.0000</td>\n      <td>Resolved</td>\n      <td>Service Charges</td>\n      <td>Calculation/Apportionment Query</td>\n      <td>10/05/2019 14:21</td>\n      <td>2019-05-10 14:21:00</td>\n      <td>Tenant3261</td>\n      <td>06/08/2004</td>\n      <td>NaN</td>\n      <td>2004-08-06</td>\n      <td>2022-07-29 13:37:11.178118</td>\n      <td>5390</td>\n      <td>[Healthy]</td>\n      <td>0</td>\n      <td>0</td>\n      <td>0</td>\n    </tr>\n    <tr>\n      <th>45361</th>\n      <td>Case46182</td>\n      <td>Unit1190</td>\n      <td>NaN</td>\n      <td>Resolved</td>\n      <td>Service Charges</td>\n      <td>Invoice/Breakdown Request</td>\n      <td>14/05/2019 12:59</td>\n      <td>2019-05-14 12:59:00</td>\n      <td>Tenant2262</td>\n      <td>14/05/2004</td>\n      <td>NaN</td>\n      <td>2004-05-14</td>\n      <td>2022-07-29 13:37:11.176980</td>\n      <td>5478</td>\n      <td>[Healthy]</td>\n      <td>0</td>\n      <td>0</td>\n      <td>0</td>\n    </tr>\n    <tr>\n      <th>45362</th>\n      <td>Case46201</td>\n      <td>Unit4371</td>\n      <td>1,899.0000</td>\n      <td>Resolved</td>\n      <td>Income</td>\n      <td>Direct Debit Enquiry</td>\n      <td>15/05/2019 09:22</td>\n      <td>2019-05-15 09:22:00</td>\n      <td>Tenant6001</td>\n      <td>13/05/2019</td>\n      <td>NaN</td>\n      <td>2019-05-13</td>\n      <td>2022-07-29 13:37:11.181748</td>\n      <td>2</td>\n      <td>[Illness, Elderly]</td>\n      <td>2</td>\n      <td>1</td>\n      <td>0</td>\n    </tr>\n    <tr>\n      <th>45363</th>\n      <td>Case46287</td>\n      <td>Unit6298</td>\n      <td>2,013.0000</td>\n      <td>Active</td>\n      <td>Income</td>\n      <td>Account Enquiry</td>\n      <td>17/05/2019 13:42</td>\n      <td>2019-05-17 13:42:00</td>\n      <td>Tenant8440</td>\n      <td>22/03/2013</td>\n      <td>23/10/2019</td>\n      <td>2013-03-22</td>\n      <td>2019-10-23 00:00:00.000000</td>\n      <td>2247</td>\n      <td>[Healthy]</td>\n      <td>0</td>\n      <td>0</td>\n      <td>0</td>\n    </tr>\n  </tbody>\n</table>\n<p>45364 rows × 18 columns</p>\n</div>"
     },
     "execution_count": 5,
     "metadata": {},
     "output_type": "execute_result"
    }
   ],
   "source": [
    "units_cases_df"
   ],
   "metadata": {
    "collapsed": false,
    "pycharm": {
     "name": "#%%\n"
    }
   }
  },
  {
   "cell_type": "markdown",
   "source": [
    "# Hypothesis Testing"
   ],
   "metadata": {
    "collapsed": false,
    "pycharm": {
     "name": "#%% md\n"
    }
   }
  },
  {
   "cell_type": "markdown",
   "source": [
    "HO: mean_health == mean_vulnerable (tenants with vulnerability are equally likely to develop damp problems with the healthy tenants)\n",
    "H1: mean_health != mean_vulnerable"
   ],
   "metadata": {
    "collapsed": false,
    "pycharm": {
     "name": "#%% md\n"
    }
   }
  },
  {
   "cell_type": "markdown",
   "source": [
    "Keep only the columns that we need"
   ],
   "metadata": {
    "collapsed": false,
    "pycharm": {
     "name": "#%% md\n"
    }
   }
  },
  {
   "cell_type": "code",
   "execution_count": 6,
   "outputs": [
    {
     "data": {
      "text/plain": "(45364, 5)"
     },
     "execution_count": 6,
     "metadata": {},
     "output_type": "execute_result"
    }
   ],
   "source": [
    "limit_df = units_cases_df[['case_number', 'unit_ref', 'tenancy_id', 'vulnerability_boolean', 'label']]\n",
    "limit_df.shape"
   ],
   "metadata": {
    "collapsed": false,
    "pycharm": {
     "name": "#%%\n"
    }
   }
  },
  {
   "cell_type": "code",
   "execution_count": 7,
   "outputs": [
    {
     "data": {
      "text/plain": "  case_number  unit_ref  tenancy_id  vulnerability_boolean  label\n0       Case0  Unit8230  Tenant8773                      1      0\n1      Case97  Unit8230  Tenant8773                      1      0\n2      Case99  Unit8230  Tenant8773                      1      0\n3     Case101  Unit8230  Tenant8773                      1      0\n4    Case1027  Unit8230  Tenant8773                      1      0",
      "text/html": "<div>\n<style scoped>\n    .dataframe tbody tr th:only-of-type {\n        vertical-align: middle;\n    }\n\n    .dataframe tbody tr th {\n        vertical-align: top;\n    }\n\n    .dataframe thead th {\n        text-align: right;\n    }\n</style>\n<table border=\"1\" class=\"dataframe\">\n  <thead>\n    <tr style=\"text-align: right;\">\n      <th></th>\n      <th>case_number</th>\n      <th>unit_ref</th>\n      <th>tenancy_id</th>\n      <th>vulnerability_boolean</th>\n      <th>label</th>\n    </tr>\n  </thead>\n  <tbody>\n    <tr>\n      <th>0</th>\n      <td>Case0</td>\n      <td>Unit8230</td>\n      <td>Tenant8773</td>\n      <td>1</td>\n      <td>0</td>\n    </tr>\n    <tr>\n      <th>1</th>\n      <td>Case97</td>\n      <td>Unit8230</td>\n      <td>Tenant8773</td>\n      <td>1</td>\n      <td>0</td>\n    </tr>\n    <tr>\n      <th>2</th>\n      <td>Case99</td>\n      <td>Unit8230</td>\n      <td>Tenant8773</td>\n      <td>1</td>\n      <td>0</td>\n    </tr>\n    <tr>\n      <th>3</th>\n      <td>Case101</td>\n      <td>Unit8230</td>\n      <td>Tenant8773</td>\n      <td>1</td>\n      <td>0</td>\n    </tr>\n    <tr>\n      <th>4</th>\n      <td>Case1027</td>\n      <td>Unit8230</td>\n      <td>Tenant8773</td>\n      <td>1</td>\n      <td>0</td>\n    </tr>\n  </tbody>\n</table>\n</div>"
     },
     "execution_count": 7,
     "metadata": {},
     "output_type": "execute_result"
    }
   ],
   "source": [
    "limit_df.head()"
   ],
   "metadata": {
    "collapsed": false,
    "pycharm": {
     "name": "#%%\n"
    }
   }
  },
  {
   "cell_type": "code",
   "execution_count": 8,
   "outputs": [],
   "source": [
    "p_hat1 = limit_df[(limit_df['label'] == 1) & (limit_df['vulnerability_boolean'] == 1)].shape[0] / limit_df[limit_df['vulnerability_boolean'] == 1].shape[0]\n",
    "\n",
    "n1 = limit_df[limit_df['vulnerability_boolean'] == 1].shape[0]"
   ],
   "metadata": {
    "collapsed": false,
    "pycharm": {
     "name": "#%%\n"
    }
   }
  },
  {
   "cell_type": "code",
   "execution_count": 9,
   "outputs": [],
   "source": [
    "p_hat2 = limit_df[(limit_df['label'] == 1) & (limit_df['vulnerability_boolean'] == 0)].shape[0] / limit_df[limit_df['vulnerability_boolean'] == 0].shape[0]\n",
    "\n",
    "n2 = limit_df[limit_df['vulnerability_boolean'] == 0].shape[0]"
   ],
   "metadata": {
    "collapsed": false,
    "pycharm": {
     "name": "#%%\n"
    }
   }
  },
  {
   "cell_type": "code",
   "execution_count": 33,
   "outputs": [],
   "source": [
    "p_hat = (n1*p_hat1 + n2*p_hat2)/(n1+n2)"
   ],
   "metadata": {
    "collapsed": false,
    "pycharm": {
     "name": "#%%\n"
    }
   }
  },
  {
   "cell_type": "code",
   "execution_count": 34,
   "outputs": [
    {
     "name": "stdout",
     "output_type": "stream",
     "text": [
      "0.0391552335440111 12974 0.027878974992281567 32390 0.031103959086500307\n"
     ]
    }
   ],
   "source": [
    "print(p_hat1, n1, p_hat2, n2, p_hat)"
   ],
   "metadata": {
    "collapsed": false,
    "pycharm": {
     "name": "#%%\n"
    }
   }
  },
  {
   "cell_type": "code",
   "execution_count": 39,
   "outputs": [],
   "source": [
    "def estimate_test_statistic(p_hat1, p_hat2, p_hat, n1, n2):\n",
    "    nominator = p_hat1 - p_hat2\n",
    "    denominator = math.sqrt(p_hat*(1-p_hat)*(1/n1 + 1/n2))\n",
    "    return nominator/denominator"
   ],
   "metadata": {
    "collapsed": false,
    "pycharm": {
     "name": "#%%\n"
    }
   }
  },
  {
   "cell_type": "code",
   "execution_count": 42,
   "outputs": [
    {
     "name": "stdout",
     "output_type": "stream",
     "text": [
      "Test statistic : 6.251803920079067\n",
      "Null hypothesis is rejected and tenants with vulnerability are not as equal as healthy tenants to develod damp problems\n"
     ]
    }
   ],
   "source": [
    "print(f'Test statistic : {estimate_test_statistic(p_hat1, p_hat2, p_hat, n1, n2)}')\n",
    "if estimate_test_statistic(p_hat1, p_hat2, p_hat, n1, n2) > 1.96: # 95% confidence level\n",
    "    print(\"Null hypothesis is rejected and tenants with vulnerability are not as equal as healthy tenants to develop damp problems\")\n",
    "else:\n",
    "    print(\"The null hypothesis is not rejected\")"
   ],
   "metadata": {
    "collapsed": false,
    "pycharm": {
     "name": "#%%\n"
    }
   }
  }
 ],
 "metadata": {
  "kernelspec": {
   "name": "hypothesis_testing",
   "language": "python",
   "display_name": "hypothesis_testing"
  },
  "language_info": {
   "codemirror_mode": {
    "name": "ipython",
    "version": 2
   },
   "file_extension": ".py",
   "mimetype": "text/x-python",
   "name": "python",
   "nbconvert_exporter": "python",
   "pygments_lexer": "ipython2",
   "version": "2.7.6"
  }
 },
 "nbformat": 4,
 "nbformat_minor": 0
}