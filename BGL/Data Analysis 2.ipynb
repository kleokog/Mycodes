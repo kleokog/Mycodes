{
 "cells": [
  {
   "cell_type": "code",
   "execution_count": 1,
   "metadata": {
    "collapsed": true,
    "pycharm": {
     "name": "#%%\n"
    }
   },
   "outputs": [],
   "source": [
    "import pandas as pd\n",
    "from distributions import create_distribution"
   ]
  },
  {
   "cell_type": "markdown",
   "source": [
    "1. Create a classifier to predict the event (build a classifier)\n",
    "2. What are the characteristics of each User Segment\n",
    "3. Propose methods to get back active/dormant users\n",
    "\n",
    "Unbalanced data!!!!!!! - how can we solve it?"
   ],
   "metadata": {
    "collapsed": false,
    "pycharm": {
     "name": "#%% md\n"
    }
   }
  },
  {
   "cell_type": "code",
   "execution_count": 2,
   "outputs": [
    {
     "name": "stdout",
     "output_type": "stream",
     "text": [
      "(100000, 6)\n"
     ]
    }
   ],
   "source": [
    "input_data = pd.read_csv(\"data/CTM_DataScientistCaseStudy.csv\", index_col=False)\n",
    "print(input_data.shape)"
   ],
   "metadata": {
    "collapsed": false,
    "pycharm": {
     "name": "#%%\n"
    }
   }
  },
  {
   "cell_type": "code",
   "execution_count": 47,
   "outputs": [
    {
     "data": {
      "text/plain": "0    70000\n1    30000\nName: Event, dtype: int64"
     },
     "execution_count": 47,
     "metadata": {},
     "output_type": "execute_result"
    }
   ],
   "source": [
    "input_data['Event'].value_counts()"
   ],
   "metadata": {
    "collapsed": false,
    "pycharm": {
     "name": "#%%\n"
    }
   }
  },
  {
   "cell_type": "code",
   "execution_count": 3,
   "outputs": [],
   "source": [
    "def create_age_groups(age):\n",
    "    if age < 30:\n",
    "        return '18-29'\n",
    "    elif age < 45:\n",
    "        return '30-45'\n",
    "    elif age < 60:\n",
    "        return '45-60'\n",
    "    else:\n",
    "        return '60+'"
   ],
   "metadata": {
    "collapsed": false,
    "pycharm": {
     "name": "#%%\n"
    }
   }
  },
  {
   "cell_type": "code",
   "execution_count": 4,
   "outputs": [],
   "source": [
    "input_data['Age Group'] = input_data['Age'].apply(lambda x : create_age_groups(x))"
   ],
   "metadata": {
    "collapsed": false,
    "pycharm": {
     "name": "#%%\n"
    }
   }
  },
  {
   "cell_type": "code",
   "execution_count": 5,
   "outputs": [
    {
     "name": "stdout",
     "output_type": "stream",
     "text": [
      "18 75\n"
     ]
    }
   ],
   "source": [
    "print(input_data['Age'].min(), input_data['Age'].max())"
   ],
   "metadata": {
    "collapsed": false,
    "pycharm": {
     "name": "#%%\n"
    }
   }
  },
  {
   "cell_type": "code",
   "execution_count": 6,
   "outputs": [
    {
     "data": {
      "text/plain": "C    58517\nA    21017\nB    19973\nName: UserSegment, dtype: int64"
     },
     "execution_count": 6,
     "metadata": {},
     "output_type": "execute_result"
    }
   ],
   "source": [
    "input_data['UserSegment'].value_counts()"
   ],
   "metadata": {
    "collapsed": false,
    "pycharm": {
     "name": "#%%\n"
    }
   }
  },
  {
   "cell_type": "code",
   "execution_count": 7,
   "outputs": [
    {
     "name": "stdout",
     "output_type": "stream",
     "text": [
      "UserSegment  Age Group\n",
      "A            18-29         4779\n",
      "             30-45         8306\n",
      "             45-60         6074\n",
      "             60+           1858\n",
      "B            18-29         5224\n",
      "             30-45         7772\n",
      "             45-60         5237\n",
      "             60+           1740\n",
      "C            18-29        20415\n",
      "             30-45        20091\n",
      "             45-60        13111\n",
      "             60+           4900\n",
      "Name: UserID, dtype: int64\n",
      "UserSegment  Recency \n",
      "A            Active      17770\n",
      "             Dormant      1227\n",
      "             Inactive     2020\n",
      "B            Active      12298\n",
      "             Dormant      3145\n",
      "             Inactive     4530\n",
      "C            Active      25360\n",
      "             Dormant     17903\n",
      "             Inactive    15254\n",
      "Name: UserID, dtype: int64\n"
     ]
    }
   ],
   "source": [
    "featurelist =['Age Group','Recency']\n",
    "for feature in featurelist:\n",
    "    print(input_data.groupby(['UserSegment', feature])['UserID'].count())"
   ],
   "metadata": {
    "collapsed": false,
    "pycharm": {
     "name": "#%%\n"
    }
   }
  },
  {
   "cell_type": "code",
   "execution_count": 8,
   "outputs": [
    {
     "data": {
      "text/plain": "UserSegment  Age Group  Recency \nA            18-29      Active      4247\n                        Dormant      157\n                        Inactive     375\n             30-45      Active      7083\n                        Dormant      474\n                        Inactive     749\n             45-60      Active      4977\n                        Dormant      431\n                        Inactive     666\n             60+        Active      1463\n                        Dormant      165\n                        Inactive     230\nB            18-29      Active      3687\n                        Dormant      555\n                        Inactive     982\n             30-45      Active      4737\n                        Dormant     1255\n                        Inactive    1780\n             45-60      Active      2990\n                        Dormant      956\n                        Inactive    1291\n             60+        Active       884\n                        Dormant      379\n                        Inactive     477\nC            18-29      Active      9999\n                        Dormant     5200\n                        Inactive    5216\n             30-45      Active      8419\n                        Dormant     6449\n                        Inactive    5223\n             45-60      Active      5108\n                        Dormant     4502\n                        Inactive    3501\n             60+        Active      1834\n                        Dormant     1752\n                        Inactive    1314\nName: UserID, dtype: int64"
     },
     "execution_count": 8,
     "metadata": {},
     "output_type": "execute_result"
    }
   ],
   "source": [
    "input_data.groupby(['UserSegment', 'Age Group','Recency'])['UserID'].count()"
   ],
   "metadata": {
    "collapsed": false,
    "pycharm": {
     "name": "#%%\n"
    }
   }
  },
  {
   "cell_type": "code",
   "execution_count": 13,
   "outputs": [
    {
     "data": {
      "text/plain": "       UserID  Age UserSegment Recency  PriorEvent  Event Age Group  weights\n588       589   48         NaN     NaN           0      1     45-60        1\n831       832   46         NaN     NaN           0      0     45-60        1\n854       855   27         NaN     NaN           0      0     18-29        1\n1050     1051   28         NaN     NaN           0      1     18-29        1\n1453     1454   36         NaN     NaN           0      1     30-45        1\n...       ...  ...         ...     ...         ...    ...       ...      ...\n99790   99791   35         NaN     NaN           0      0     30-45        1\n99846   99847   35         NaN     NaN           0      0     30-45        1\n99873   99874   35         NaN     NaN           0      0     30-45        1\n99938   99939   35         NaN     NaN           0      0     30-45        1\n99954   99955   61         NaN     NaN           0      0       60+        1\n\n[493 rows x 8 columns]",
      "text/html": "<div>\n<style scoped>\n    .dataframe tbody tr th:only-of-type {\n        vertical-align: middle;\n    }\n\n    .dataframe tbody tr th {\n        vertical-align: top;\n    }\n\n    .dataframe thead th {\n        text-align: right;\n    }\n</style>\n<table border=\"1\" class=\"dataframe\">\n  <thead>\n    <tr style=\"text-align: right;\">\n      <th></th>\n      <th>UserID</th>\n      <th>Age</th>\n      <th>UserSegment</th>\n      <th>Recency</th>\n      <th>PriorEvent</th>\n      <th>Event</th>\n      <th>Age Group</th>\n      <th>weights</th>\n    </tr>\n  </thead>\n  <tbody>\n    <tr>\n      <th>588</th>\n      <td>589</td>\n      <td>48</td>\n      <td>NaN</td>\n      <td>NaN</td>\n      <td>0</td>\n      <td>1</td>\n      <td>45-60</td>\n      <td>1</td>\n    </tr>\n    <tr>\n      <th>831</th>\n      <td>832</td>\n      <td>46</td>\n      <td>NaN</td>\n      <td>NaN</td>\n      <td>0</td>\n      <td>0</td>\n      <td>45-60</td>\n      <td>1</td>\n    </tr>\n    <tr>\n      <th>854</th>\n      <td>855</td>\n      <td>27</td>\n      <td>NaN</td>\n      <td>NaN</td>\n      <td>0</td>\n      <td>0</td>\n      <td>18-29</td>\n      <td>1</td>\n    </tr>\n    <tr>\n      <th>1050</th>\n      <td>1051</td>\n      <td>28</td>\n      <td>NaN</td>\n      <td>NaN</td>\n      <td>0</td>\n      <td>1</td>\n      <td>18-29</td>\n      <td>1</td>\n    </tr>\n    <tr>\n      <th>1453</th>\n      <td>1454</td>\n      <td>36</td>\n      <td>NaN</td>\n      <td>NaN</td>\n      <td>0</td>\n      <td>1</td>\n      <td>30-45</td>\n      <td>1</td>\n    </tr>\n    <tr>\n      <th>...</th>\n      <td>...</td>\n      <td>...</td>\n      <td>...</td>\n      <td>...</td>\n      <td>...</td>\n      <td>...</td>\n      <td>...</td>\n      <td>...</td>\n    </tr>\n    <tr>\n      <th>99790</th>\n      <td>99791</td>\n      <td>35</td>\n      <td>NaN</td>\n      <td>NaN</td>\n      <td>0</td>\n      <td>0</td>\n      <td>30-45</td>\n      <td>1</td>\n    </tr>\n    <tr>\n      <th>99846</th>\n      <td>99847</td>\n      <td>35</td>\n      <td>NaN</td>\n      <td>NaN</td>\n      <td>0</td>\n      <td>0</td>\n      <td>30-45</td>\n      <td>1</td>\n    </tr>\n    <tr>\n      <th>99873</th>\n      <td>99874</td>\n      <td>35</td>\n      <td>NaN</td>\n      <td>NaN</td>\n      <td>0</td>\n      <td>0</td>\n      <td>30-45</td>\n      <td>1</td>\n    </tr>\n    <tr>\n      <th>99938</th>\n      <td>99939</td>\n      <td>35</td>\n      <td>NaN</td>\n      <td>NaN</td>\n      <td>0</td>\n      <td>0</td>\n      <td>30-45</td>\n      <td>1</td>\n    </tr>\n    <tr>\n      <th>99954</th>\n      <td>99955</td>\n      <td>61</td>\n      <td>NaN</td>\n      <td>NaN</td>\n      <td>0</td>\n      <td>0</td>\n      <td>60+</td>\n      <td>1</td>\n    </tr>\n  </tbody>\n</table>\n<p>493 rows × 8 columns</p>\n</div>"
     },
     "execution_count": 13,
     "metadata": {},
     "output_type": "execute_result"
    }
   ],
   "source": [
    "input_data[input_data['UserSegment'].isnull()]"
   ],
   "metadata": {
    "collapsed": false,
    "pycharm": {
     "name": "#%%\n"
    }
   }
  },
  {
   "cell_type": "code",
   "execution_count": 45,
   "outputs": [
    {
     "name": "stdout",
     "output_type": "stream",
     "text": [
      "<class 'pandas.core.frame.DataFrame'>\n",
      "RangeIndex: 100000 entries, 0 to 99999\n",
      "Data columns (total 8 columns):\n",
      " #   Column       Non-Null Count   Dtype \n",
      "---  ------       --------------   ----- \n",
      " 0   UserID       100000 non-null  int64 \n",
      " 1   Age          100000 non-null  int64 \n",
      " 2   UserSegment  99507 non-null   object\n",
      " 3   Recency      99507 non-null   object\n",
      " 4   PriorEvent   100000 non-null  int64 \n",
      " 5   Event        100000 non-null  int64 \n",
      " 6   Age Group    100000 non-null  object\n",
      " 7   weights      100000 non-null  int64 \n",
      "dtypes: int64(5), object(3)\n",
      "memory usage: 6.1+ MB\n"
     ]
    }
   ],
   "source": [
    "input_data.info()"
   ],
   "metadata": {
    "collapsed": false,
    "pycharm": {
     "name": "#%%\n"
    }
   }
  },
  {
   "cell_type": "markdown",
   "source": [
    "# Segments Profiling"
   ],
   "metadata": {
    "collapsed": false,
    "pycharm": {
     "name": "#%% md\n"
    }
   }
  },
  {
   "cell_type": "code",
   "execution_count": 40,
   "outputs": [],
   "source": [
    "def estimate_indexes(input_df:pd.DataFrame, target_variable:str, break_it_down_by:str, id_col:str= 'UserID'):\n",
    "    distribution = pd.pivot_table(input_df, id_col, break_it_down_by, target_variable, 'count')\n",
    "    distribution_percentages = distribution.div(distribution.sum(axis = 0))\n",
    "    sample_distribution = input_df.groupby([break_it_down_by])[id_col].count()/user_segments_df.shape[0]\n",
    "    distribution_indexes = distribution_percentages.div(sample_distribution, axis =0)\n",
    "\n",
    "    return distribution_indexes"
   ],
   "metadata": {
    "collapsed": false,
    "pycharm": {
     "name": "#%%\n"
    }
   }
  },
  {
   "cell_type": "code",
   "execution_count": 41,
   "outputs": [
    {
     "data": {
      "text/plain": "UserSegment         A         B         C\nAge Group                                \n18-29        0.743857  0.855624  1.141275\n30-45        1.087272  1.070549  0.944575\n45-60        1.177542  1.068345  0.912906\n60+          1.035171  1.020100  0.980508",
      "text/html": "<div>\n<style scoped>\n    .dataframe tbody tr th:only-of-type {\n        vertical-align: middle;\n    }\n\n    .dataframe tbody tr th {\n        vertical-align: top;\n    }\n\n    .dataframe thead th {\n        text-align: right;\n    }\n</style>\n<table border=\"1\" class=\"dataframe\">\n  <thead>\n    <tr style=\"text-align: right;\">\n      <th>UserSegment</th>\n      <th>A</th>\n      <th>B</th>\n      <th>C</th>\n    </tr>\n    <tr>\n      <th>Age Group</th>\n      <th></th>\n      <th></th>\n      <th></th>\n    </tr>\n  </thead>\n  <tbody>\n    <tr>\n      <th>18-29</th>\n      <td>0.743857</td>\n      <td>0.855624</td>\n      <td>1.141275</td>\n    </tr>\n    <tr>\n      <th>30-45</th>\n      <td>1.087272</td>\n      <td>1.070549</td>\n      <td>0.944575</td>\n    </tr>\n    <tr>\n      <th>45-60</th>\n      <td>1.177542</td>\n      <td>1.068345</td>\n      <td>0.912906</td>\n    </tr>\n    <tr>\n      <th>60+</th>\n      <td>1.035171</td>\n      <td>1.020100</td>\n      <td>0.980508</td>\n    </tr>\n  </tbody>\n</table>\n</div>"
     },
     "execution_count": 41,
     "metadata": {},
     "output_type": "execute_result"
    }
   ],
   "source": [
    "user_segments_df = input_data.dropna(subset = ['UserSegment'])\n",
    "estimate_indexes(user_segments_df, 'UserSegment', 'Age Group', 'UserID')"
   ],
   "metadata": {
    "collapsed": false,
    "pycharm": {
     "name": "#%%\n"
    }
   }
  },
  {
   "cell_type": "code",
   "execution_count": 42,
   "outputs": [
    {
     "data": {
      "text/plain": "UserSegment         A         B         C\nRecency                                  \nActive       1.517893  1.105390  0.778022\nDormant      0.260801  0.703418  1.366720\nInactive     0.438630  1.035076  1.189650",
      "text/html": "<div>\n<style scoped>\n    .dataframe tbody tr th:only-of-type {\n        vertical-align: middle;\n    }\n\n    .dataframe tbody tr th {\n        vertical-align: top;\n    }\n\n    .dataframe thead th {\n        text-align: right;\n    }\n</style>\n<table border=\"1\" class=\"dataframe\">\n  <thead>\n    <tr style=\"text-align: right;\">\n      <th>UserSegment</th>\n      <th>A</th>\n      <th>B</th>\n      <th>C</th>\n    </tr>\n    <tr>\n      <th>Recency</th>\n      <th></th>\n      <th></th>\n      <th></th>\n    </tr>\n  </thead>\n  <tbody>\n    <tr>\n      <th>Active</th>\n      <td>1.517893</td>\n      <td>1.105390</td>\n      <td>0.778022</td>\n    </tr>\n    <tr>\n      <th>Dormant</th>\n      <td>0.260801</td>\n      <td>0.703418</td>\n      <td>1.366720</td>\n    </tr>\n    <tr>\n      <th>Inactive</th>\n      <td>0.438630</td>\n      <td>1.035076</td>\n      <td>1.189650</td>\n    </tr>\n  </tbody>\n</table>\n</div>"
     },
     "execution_count": 42,
     "metadata": {},
     "output_type": "execute_result"
    }
   ],
   "source": [
    "estimate_indexes(user_segments_df, 'UserSegment', 'Recency', 'UserID')"
   ],
   "metadata": {
    "collapsed": false,
    "pycharm": {
     "name": "#%%\n"
    }
   }
  },
  {
   "cell_type": "code",
   "execution_count": 43,
   "outputs": [
    {
     "data": {
      "text/plain": "UserSegment         A         B         C\nPriorEvent                               \n0            0.898341  1.007016  1.034117\n1            2.000519  0.930950  0.664221",
      "text/html": "<div>\n<style scoped>\n    .dataframe tbody tr th:only-of-type {\n        vertical-align: middle;\n    }\n\n    .dataframe tbody tr th {\n        vertical-align: top;\n    }\n\n    .dataframe thead th {\n        text-align: right;\n    }\n</style>\n<table border=\"1\" class=\"dataframe\">\n  <thead>\n    <tr style=\"text-align: right;\">\n      <th>UserSegment</th>\n      <th>A</th>\n      <th>B</th>\n      <th>C</th>\n    </tr>\n    <tr>\n      <th>PriorEvent</th>\n      <th></th>\n      <th></th>\n      <th></th>\n    </tr>\n  </thead>\n  <tbody>\n    <tr>\n      <th>0</th>\n      <td>0.898341</td>\n      <td>1.007016</td>\n      <td>1.034117</td>\n    </tr>\n    <tr>\n      <th>1</th>\n      <td>2.000519</td>\n      <td>0.930950</td>\n      <td>0.664221</td>\n    </tr>\n  </tbody>\n</table>\n</div>"
     },
     "execution_count": 43,
     "metadata": {},
     "output_type": "execute_result"
    }
   ],
   "source": [
    "estimate_indexes(user_segments_df, 'UserSegment', 'PriorEvent', 'UserID')"
   ],
   "metadata": {
    "collapsed": false,
    "pycharm": {
     "name": "#%%\n"
    }
   }
  }
 ],
 "metadata": {
  "kernelspec": {
   "name": "classifiers",
   "language": "python",
   "display_name": "classifiers"
  },
  "language_info": {
   "codemirror_mode": {
    "name": "ipython",
    "version": 2
   },
   "file_extension": ".py",
   "mimetype": "text/x-python",
   "name": "python",
   "nbconvert_exporter": "python",
   "pygments_lexer": "ipython2",
   "version": "2.7.6"
  }
 },
 "nbformat": 4,
 "nbformat_minor": 0
}